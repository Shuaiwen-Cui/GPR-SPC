{
 "cells": [
  {
   "cell_type": "code",
   "execution_count": 6,
   "metadata": {},
   "outputs": [],
   "source": [
    "import openseespy.opensees as ops\n",
    "import matplotlib.pyplot as plt\n",
    "import numpy as np\n",
    "\n",
    "import sensitivity_analyses as sa\n"
   ]
  },
  {
   "cell_type": "code",
   "execution_count": 7,
   "metadata": {},
   "outputs": [
    {
     "name": "stdout",
     "output_type": "stream",
     "text": [
      "[0.   0.01 0.02 0.03 0.04 0.05 0.06 0.07 0.08 0.09 0.1  0.11 0.12 0.13\n",
      " 0.14 0.15 0.16 0.17 0.18 0.19 0.2  0.21 0.22 0.23 0.24 0.25 0.26 0.27\n",
      " 0.28 0.29 0.3  0.31 0.32 0.33 0.34 0.35 0.36 0.37 0.38 0.39 0.4 ]\n",
      "41\n"
     ]
    }
   ],
   "source": [
    "drop_list1 = np.linspace(0, 0.4, 41)\n",
    "# drop_list2 = np.linspace(0.6, 0.8, 3)\n",
    "# drop_list = np.concatenate((drop_list1, drop_list2))\n",
    "drop_list = drop_list1  \n",
    "print(drop_list)\n",
    "\n",
    "dim1 = len(drop_list)\n",
    "print(dim1)\n",
    "\n",
    "# save drop_list\n",
    "np.save('drop_list.npy', drop_list)"
   ]
  },
  {
   "cell_type": "code",
   "execution_count": 8,
   "metadata": {},
   "outputs": [],
   "source": [
    "# for averaging\n",
    "N = 100\n",
    "\n",
    "# Result Holder R\n",
    "RX = np.zeros((dim1, N, 2))\n",
    "RY = np.zeros((dim1, N, 2))\n",
    "RZ = np.zeros((dim1, N, 2))"
   ]
  },
  {
   "cell_type": "code",
   "execution_count": 9,
   "metadata": {},
   "outputs": [
    {
     "name": "stdout",
     "output_type": "stream",
     "text": [
      "current progress: 1 / 41\n",
      "current progress: 2 / 41\n",
      "current progress: 3 / 41\n",
      "current progress: 4 / 41\n",
      "current progress: 5 / 41\n",
      "current progress: 6 / 41\n",
      "current progress: 7 / 41\n",
      "current progress: 8 / 41\n",
      "current progress: 9 / 41\n",
      "current progress: 10 / 41\n",
      "current progress: 11 / 41\n",
      "current progress: 12 / 41\n",
      "current progress: 13 / 41\n",
      "current progress: 14 / 41\n",
      "current progress: 15 / 41\n",
      "current progress: 16 / 41\n",
      "current progress: 17 / 41\n",
      "current progress: 18 / 41\n",
      "current progress: 19 / 41\n",
      "current progress: 20 / 41\n",
      "current progress: 21 / 41\n",
      "current progress: 22 / 41\n",
      "current progress: 23 / 41\n",
      "current progress: 24 / 41\n",
      "current progress: 25 / 41\n",
      "current progress: 26 / 41\n",
      "current progress: 27 / 41\n",
      "current progress: 28 / 41\n",
      "current progress: 29 / 41\n",
      "current progress: 30 / 41\n",
      "current progress: 31 / 41\n",
      "current progress: 32 / 41\n",
      "current progress: 33 / 41\n",
      "current progress: 34 / 41\n",
      "current progress: 35 / 41\n",
      "current progress: 36 / 41\n",
      "current progress: 37 / 41\n",
      "current progress: 38 / 41\n",
      "current progress: 39 / 41\n",
      "current progress: 40 / 41\n",
      "current progress: 41 / 41\n"
     ]
    }
   ],
   "source": [
    "# go through all the drops, trials\n",
    "\n",
    "for i in range(dim1):\n",
    "    for j in range(N):\n",
    "        \n",
    "        max_disp_xa, max_disp_xb, max_disp_ya, max_disp_yb, max_disp_za, max_disp_zb = sa.trial(drop_list[i])\n",
    "        \n",
    "        RX[i, j, 0] = max_disp_xa\n",
    "        RX[i, j, 1] = max_disp_xb\n",
    "        \n",
    "        RY[i, j, 0] = max_disp_ya\n",
    "        RY[i, j, 1] = max_disp_yb\n",
    "        \n",
    "        RZ[i, j, 0] = max_disp_za\n",
    "        RZ[i, j, 1] = max_disp_zb\n",
    "    \n",
    "    # print progress\n",
    "    print(\"current progress: %d / %d\" % (i+1, dim1))"
   ]
  },
  {
   "cell_type": "code",
   "execution_count": 10,
   "metadata": {},
   "outputs": [],
   "source": [
    "# save the results\n",
    "np.save('RX.npy', RX)\n",
    "np.save('RY.npy', RY)\n",
    "np.save('RZ.npy', RZ)"
   ]
  }
 ],
 "metadata": {
  "kernelspec": {
   "display_name": "Python 3",
   "language": "python",
   "name": "python3"
  },
  "language_info": {
   "codemirror_mode": {
    "name": "ipython",
    "version": 3
   },
   "file_extension": ".py",
   "mimetype": "text/x-python",
   "name": "python",
   "nbconvert_exporter": "python",
   "pygments_lexer": "ipython3",
   "version": "3.12.7"
  }
 },
 "nbformat": 4,
 "nbformat_minor": 2
}
