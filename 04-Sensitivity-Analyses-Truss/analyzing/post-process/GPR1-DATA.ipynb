{
 "cells": [
  {
   "cell_type": "code",
   "execution_count": null,
   "metadata": {},
   "outputs": [
    {
     "ename": "",
     "evalue": "",
     "output_type": "error",
     "traceback": [
      "\u001b[1;31mRunning cells with 'Python 3.12.7' requires the ipykernel package.\n",
      "\u001b[1;31mRun the following command to install 'ipykernel' into the Python environment. \n",
      "\u001b[1;31mCommand: '/opt/homebrew/bin/python3.12 -m pip install ipykernel -U --user --force-reinstall'"
     ]
    }
   ],
   "source": [
    "import openseespy.opensees as ops\n",
    "import matplotlib.pyplot as plt\n",
    "import numpy as np\n",
    "\n",
    "import sensitivity_analyses as sa\n"
   ]
  },
  {
   "cell_type": "code",
   "execution_count": null,
   "metadata": {},
   "outputs": [],
   "source": [
    "drop_list1 = np.linspace(0, 0.5, 51)\n",
    "drop_list2 = np.linspace(0.6, 0.8, 3)\n",
    "drop_list = np.concatenate((drop_list1, drop_list2))\n",
    "print(drop_list)\n",
    "\n",
    "dim1 = len(drop_list)\n",
    "print(dim1)\n",
    "\n",
    "# save drop_list\n",
    "np.save('drop_list.npy', drop_list)"
   ]
  },
  {
   "cell_type": "code",
   "execution_count": 3,
   "metadata": {},
   "outputs": [],
   "source": [
    "# for averaging\n",
    "N = 100\n",
    "\n",
    "# Result Holder R\n",
    "RX = np.zeros((dim1, N, 2))\n",
    "RY = np.zeros((dim1, N, 2))\n",
    "RZ = np.zeros((dim1, N, 2))"
   ]
  },
  {
   "cell_type": "code",
   "execution_count": null,
   "metadata": {},
   "outputs": [],
   "source": [
    "# go through all the drops, trials\n",
    "\n",
    "for i in range(dim1):\n",
    "    for j in range(N):\n",
    "        \n",
    "        max_disp_xa, max_disp_xb, max_disp_ya, max_disp_yb, max_disp_za, max_disp_zb = sa.trial(drop_list[i])\n",
    "        \n",
    "        RX[i, j, 0] = max_disp_xa\n",
    "        RX[i, j, 1] = max_disp_xb\n",
    "        \n",
    "        RY[i, j, 0] = max_disp_ya\n",
    "        RY[i, j, 1] = max_disp_yb\n",
    "        \n",
    "        RZ[i, j, 0] = max_disp_za\n",
    "        RZ[i, j, 1] = max_disp_zb\n",
    "    \n",
    "    # print progress\n",
    "    print(\"current progress: %d / %d\" % (i+1, dim1))"
   ]
  },
  {
   "cell_type": "code",
   "execution_count": 5,
   "metadata": {},
   "outputs": [],
   "source": [
    "# save the results\n",
    "np.save('RX.npy', RX)\n",
    "np.save('RY.npy', RY)\n",
    "np.save('RZ.npy', RZ)"
   ]
  }
 ],
 "metadata": {
  "kernelspec": {
   "display_name": "Python 3",
   "language": "python",
   "name": "python3"
  },
  "language_info": {
   "codemirror_mode": {
    "name": "ipython",
    "version": 3
   },
   "file_extension": ".py",
   "mimetype": "text/x-python",
   "name": "python",
   "nbconvert_exporter": "python",
   "pygments_lexer": "ipython3",
   "version": "3.12.7"
  }
 },
 "nbformat": 4,
 "nbformat_minor": 2
}
