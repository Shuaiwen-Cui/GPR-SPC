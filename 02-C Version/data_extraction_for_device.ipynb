{
 "cells": [
  {
   "cell_type": "code",
   "execution_count": 3,
   "metadata": {},
   "outputs": [],
   "source": [
    "import csv\n",
    "import sys\n",
    "import os\n",
    "import re\n",
    "import argparse\n",
    "import json\n"
   ]
  },
  {
   "cell_type": "code",
   "execution_count": 4,
   "metadata": {},
   "outputs": [],
   "source": [
    "import csv\n",
    "\n",
    "def convert_csv_to_c_array(csv_file, txt_file, num_rows=None):\n",
    "    with open(csv_file, 'r') as csvfile, open(txt_file, 'w') as txtfile:\n",
    "        reader = csv.reader(csvfile)\n",
    "        data = list(reader)\n",
    "\n",
    "        # Check if all rows have the same number of columns\n",
    "        num_cols = len(data[0])\n",
    "        for row in data[1:]:\n",
    "            if len(row) != num_cols:\n",
    "                raise ValueError(\"All rows must have the same number of columns\")\n",
    "\n",
    "        # Convert data to C array format\n",
    "        txtfile.write(\"float data[{}][{}] = {{\\n\".format(num_rows, num_cols))\n",
    "\n",
    "        if num_rows is None:\n",
    "            # Read all rows if num_rows is not specified\n",
    "            for row in data:\n",
    "                row_str = \", \".join(row)\n",
    "                txtfile.write(\"    {\" + row_str + \"},\\n\")\n",
    "        else:\n",
    "            # Read only the specified number of rows\n",
    "            for row in data[:num_rows]:\n",
    "                row_str = \", \".join(row)\n",
    "                txtfile.write(\"    {\" + row_str + \"},\\n\")\n",
    "\n",
    "        txtfile.write(\"};\\n\")\n",
    "\n",
    "if __name__ == \"__main__\":\n",
    "    csv_file = \"x_train.csv\"  # Replace with your actual CSV file path\n",
    "    txt_file = \"x_train.txt\"  # Replace with your desired TXT file path\n",
    "    num_rows = 100  # Set the desired number of rows to read (or None for all rows)\n",
    "\n",
    "    convert_csv_to_c_array(csv_file, txt_file, num_rows)\n",
    "\n"
   ]
  },
  {
   "cell_type": "code",
   "execution_count": 5,
   "metadata": {},
   "outputs": [],
   "source": [
    "convert_csv_to_c_array(\"x_train.csv\", \"x_train.txt\", 100)\n",
    "convert_csv_to_c_array(\"y_train.csv\", \"y_train.txt\", 100)\n",
    "convert_csv_to_c_array(\"x_test.csv\", \"x_test.txt\", 147)\n",
    "convert_csv_to_c_array(\"y_testtrue.csv\", \"y_testtrue.txt\", 147)"
   ]
  }
 ],
 "metadata": {
  "kernelspec": {
   "display_name": "base",
   "language": "python",
   "name": "python3"
  },
  "language_info": {
   "codemirror_mode": {
    "name": "ipython",
    "version": 3
   },
   "file_extension": ".py",
   "mimetype": "text/x-python",
   "name": "python",
   "nbconvert_exporter": "python",
   "pygments_lexer": "ipython3",
   "version": "3.11.5"
  }
 },
 "nbformat": 4,
 "nbformat_minor": 2
}
