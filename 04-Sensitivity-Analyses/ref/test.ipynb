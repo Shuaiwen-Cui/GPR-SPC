{
 "cells": [
  {
   "cell_type": "code",
   "execution_count": null,
   "metadata": {},
   "outputs": [],
   "source": [
    "pip install openseespy\n"
   ]
  },
  {
   "cell_type": "code",
   "execution_count": 1,
   "metadata": {},
   "outputs": [
    {
     "name": "stdout",
     "output_type": "stream",
     "text": [
      "Simple OpenSeesPy test ran successfully!\n"
     ]
    }
   ],
   "source": [
    "from openseespy.opensees import *\n",
    "\n",
    "# Wipe previous model data\n",
    "wipe()\n",
    "\n",
    "# Create a 1-node model\n",
    "model('basic', '-ndm', 2, '-ndf', 3)\n",
    "node(1, 0.0, 0.0)\n",
    "fix(1, 1, 1, 1)\n",
    "\n",
    "print(\"Simple OpenSeesPy test ran successfully!\")\n"
   ]
  }
 ],
 "metadata": {
  "kernelspec": {
   "display_name": "Python 3",
   "language": "python",
   "name": "python3"
  },
  "language_info": {
   "codemirror_mode": {
    "name": "ipython",
    "version": 3
   },
   "file_extension": ".py",
   "mimetype": "text/x-python",
   "name": "python",
   "nbconvert_exporter": "python",
   "pygments_lexer": "ipython3",
   "version": "3.12.7"
  }
 },
 "nbformat": 4,
 "nbformat_minor": 2
}
