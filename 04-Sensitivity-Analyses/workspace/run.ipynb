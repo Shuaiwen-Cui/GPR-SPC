{
 "cells": [
  {
   "cell_type": "code",
   "execution_count": 5,
   "metadata": {},
   "outputs": [],
   "source": [
    "import openseespy.opensees as ops\n",
    "import matplotlib.pyplot as plt\n",
    "import numpy as np\n",
    "\n",
    "import sensitivity_analyses as sa\n",
    "\n"
   ]
  },
  {
   "cell_type": "code",
   "execution_count": 6,
   "metadata": {},
   "outputs": [
    {
     "name": "stdout",
     "output_type": "stream",
     "text": [
      "max_xa:  0.327095\n",
      "max_xb:  0.327271\n",
      "max_ya:  0.478107\n",
      "max_yb:  0.477933\n",
      "max_za:  0.650491\n",
      "max_zb:  0.650277\n"
     ]
    },
    {
     "name": "stderr",
     "output_type": "stream",
     "text": [
      "ProfileSPDLinDirectSolver::solve() -  aii < 0 (i, aii): (0,0)\n",
      "ProfileSPDLinDirectSolver::solve() -  aii < 0 (i, aii): (0,0)\n",
      "ProfileSPDLinDirectSolver::solve() -  aii < 0 (i, aii): (0,0)\n",
      "ProfileSPDLinDirectSolver::solve() -  aii < 0 (i, aii): (0,0)\n",
      "ProfileSPDLinDirectSolver::solve() -  aii < 0 (i, aii): (0,0)\n"
     ]
    }
   ],
   "source": [
    "# Test\n",
    "\n",
    "max_xa, max_xb, max_ya, max_yb, max_za, max_zb = sa.trial(1, 0)\n",
    "\n",
    "print(\"max_xa: \", max_xa)\n",
    "print(\"max_xb: \", max_xb)\n",
    "print(\"max_ya: \", max_ya)\n",
    "print(\"max_yb: \", max_yb)\n",
    "print(\"max_za: \", max_za)\n",
    "print(\"max_zb: \", max_zb)"
   ]
  },
  {
   "cell_type": "code",
   "execution_count": 19,
   "metadata": {},
   "outputs": [
    {
     "name": "stdout",
     "output_type": "stream",
     "text": [
      "[0.   0.01 0.02 0.03 0.04 0.05 0.06 0.07 0.08 0.09 0.1  0.2  0.3  0.4\n",
      " 0.5  0.6  0.7  0.8 ]\n",
      "[ 0.   0.1  0.2  0.3  0.4  0.5  0.6  0.7  0.8  0.9  1.   2.   3.   4.\n",
      "  5.   6.   7.   8.   9.  10. ]\n"
     ]
    }
   ],
   "source": [
    "reduction_factor_list1 = np.linspace(1, 0.9, 11)\n",
    "reduction_factor_list2 = np.linspace(0.8, 0.2, 7)\n",
    "reduction_factor_list = np.concatenate((reduction_factor_list1, reduction_factor_list2))\n",
    "\n",
    "drop_factor_list = 1 - reduction_factor_list\n",
    "print(drop_factor_list)\n",
    "\n",
    "noise_level_list1 = np.linspace(0, 1, 11)\n",
    "noise_level_list2 = np.linspace(2, 10, 9)\n",
    "noise_level_list = np.concatenate((noise_level_list1, noise_level_list2))\n",
    "\n",
    "print(noise_level_list)\n",
    "\n",
    "\n",
    "\n"
   ]
  }
 ],
 "metadata": {
  "kernelspec": {
   "display_name": "Python 3",
   "language": "python",
   "name": "python3"
  },
  "language_info": {
   "codemirror_mode": {
    "name": "ipython",
    "version": 3
   },
   "file_extension": ".py",
   "mimetype": "text/x-python",
   "name": "python",
   "nbconvert_exporter": "python",
   "pygments_lexer": "ipython3",
   "version": "3.12.7"
  }
 },
 "nbformat": 4,
 "nbformat_minor": 2
}
