{
 "cells": [
  {
   "cell_type": "code",
   "execution_count": 1,
   "metadata": {},
   "outputs": [],
   "source": [
    "import openseespy.opensees as ops\n",
    "import matplotlib.pyplot as plt\n",
    "import numpy as np\n",
    "\n",
    "import sensitivity_analyses as sa\n",
    "\n"
   ]
  },
  {
   "cell_type": "code",
   "execution_count": 3,
   "metadata": {},
   "outputs": [
    {
     "name": "stdout",
     "output_type": "stream",
     "text": [
      "[ 0.  1.  2.  3.  4.  5.  6.  7.  8.  9. 10. 20. 30. 40. 50.]\n",
      "[0.  0.1 0.2 0.3 0.4 0.5 0.6 0.7 0.8 0.9 1. ]\n"
     ]
    }
   ],
   "source": [
    "reduction_factor_list1 = np.linspace(1, 0.9, 11)\n",
    "reduction_factor_list2 = np.linspace(0.8, 0.5, 4)\n",
    "reduction_factor_list = np.concatenate((reduction_factor_list1, reduction_factor_list2))\n",
    "# reduction_factor_list = reduction_factor_list1\n",
    "\n",
    "drop_factor_list = (1 - reduction_factor_list)*100\n",
    "print(drop_factor_list)\n",
    "\n",
    "dim1 = len(reduction_factor_list)\n",
    "\n",
    "noise_level_list = np.linspace(0, 1, 11)\n",
    "\n",
    "print(noise_level_list)\n",
    "\n",
    "dim2 = len(noise_level_list)\n"
   ]
  },
  {
   "cell_type": "code",
   "execution_count": 5,
   "metadata": {},
   "outputs": [],
   "source": [
    "# use average to make the results more robust\n",
    "dim3 = 30\n"
   ]
  },
  {
   "cell_type": "code",
   "execution_count": null,
   "metadata": {},
   "outputs": [],
   "source": [
    "RX = np.zeros((dim1, dim2, dim3, 2)) # strength redcution; noise level; sample; monitor A and B values\n",
    "RY = np.zeros((dim1, dim2, dim3, 2)) # strength redcution; noise level; sample; monitor A and B values\n",
    "RZ = np.zeros((dim1, dim2, dim3, 2)) # strength redcution; noise level; sample; monitor A and B values"
   ]
  },
  {
   "cell_type": "code",
   "execution_count": null,
   "metadata": {},
   "outputs": [],
   "source": [
    "from tqdm import tqdm\n",
    "import time"
   ]
  },
  {
   "cell_type": "code",
   "execution_count": null,
   "metadata": {},
   "outputs": [],
   "source": [
    "progress_bar = tqdm(total=dim1 * dim2, desc=\"Processing\", unit=\"step\")\n",
    "\n",
    "# loop over different strength levels and noise levels to analyze the sensitivity\n",
    "\n",
    "for i in range(dim1):\n",
    "    for j in range(dim2):\n",
    "        for k in range(dim3):\n",
    "            x_a, x_b, y_a, y_b, z_a, z_b = sa.trial(reduction_factor_list[i], noise_level_list[j])\n",
    "            \n",
    "            RX[i, j, k, 0] = x_a\n",
    "            RX[i, j, k, 1] = x_b\n",
    "            \n",
    "            RY[i, j, k, 0] = y_a\n",
    "            RY[i, j, k, 1] = y_b\n",
    "            \n",
    "            RZ[i, j, k, 0] = z_a\n",
    "            RZ[i, j, k, 1] = z_b\n",
    "        \n",
    "   \n",
    "        # Update the progress bar\n",
    "        progress_bar.update(1)\n",
    "\n",
    "progress_bar.close()"
   ]
  },
  {
   "cell_type": "code",
   "execution_count": null,
   "metadata": {},
   "outputs": [],
   "source": [
    "# save RX, RY, RZ to file\n",
    "np.save(\"RX.npy\", RX)\n",
    "np.save(\"RY.npy\", RY)\n",
    "np.save(\"RZ.npy\", RZ)"
   ]
  },
  {
   "cell_type": "code",
   "execution_count": null,
   "metadata": {},
   "outputs": [],
   "source": [
    "# load RX, RY, RZ from file\n",
    "RX = np.load(\"RX.npy\")\n",
    "RY = np.load(\"RY.npy\")\n",
    "RZ = np.load(\"RZ.npy\")"
   ]
  }
 ],
 "metadata": {
  "kernelspec": {
   "display_name": "openseespy",
   "language": "python",
   "name": "python3"
  },
  "language_info": {
   "codemirror_mode": {
    "name": "ipython",
    "version": 3
   },
   "file_extension": ".py",
   "mimetype": "text/x-python",
   "name": "python",
   "nbconvert_exporter": "python",
   "pygments_lexer": "ipython3",
   "version": "3.12.4"
  }
 },
 "nbformat": 4,
 "nbformat_minor": 2
}
